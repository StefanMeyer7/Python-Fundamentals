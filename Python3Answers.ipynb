{
  "nbformat": 4,
  "nbformat_minor": 0,
  "metadata": {
    "colab": {
      "provenance": []
    },
    "kernelspec": {
      "name": "python3",
      "display_name": "Python 3"
    },
    "language_info": {
      "name": "python"
    }
  },
  "cells": [
    {
      "cell_type": "markdown",
      "source": [
        "1A. Write a Python program to sum all the items in a list."
      ],
      "metadata": {
        "id": "06HPv0TNKzcW"
      }
    },
    {
      "cell_type": "code",
      "execution_count": 7,
      "metadata": {
        "id": "sHKUtK2dKukc",
        "colab": {
          "base_uri": "https://localhost:8080/"
        },
        "outputId": "f8981c30-64de-4559-ae61-14596f0ed738"
      },
      "outputs": [
        {
          "output_type": "stream",
          "name": "stdout",
          "text": [
            "The sum of the list items is: 15\n"
          ]
        }
      ],
      "source": [
        "def sumItems(lst):\n",
        "    my_list = [1, 2, 3, 4, 5]\n",
        "    total = 0\n",
        "    for item in lst:\n",
        "        total += item\n",
        "    return total\n",
        "\n",
        "my_list = [1, 2, 3, 4, 5]\n",
        "result = sumItems(my_list)\n",
        "print(\"The sum of the list items is:\", result)"
      ]
    },
    {
      "cell_type": "markdown",
      "source": [
        "1B. Write a Python program to count the number of strings where the string length is 2 or more and the first and last character are same from a given list of strings."
      ],
      "metadata": {
        "id": "mnY0V50-K0iF"
      }
    },
    {
      "cell_type": "code",
      "source": [
        "def countFirstLast(strings):\n",
        "    count = 0\n",
        "    for string in strings:\n",
        "        if len(string) >= 2 and string[0] == string[-1]:\n",
        "            count += 1\n",
        "    return count\n",
        "\n",
        "# Example usage\n",
        "my_strings = ['level', 'python', 'radar', 'hello', 'madam']\n",
        "result = countFirstLast(my_strings)\n",
        "print(\"The number of strings with the same first and last character is:\", result)"
      ],
      "metadata": {
        "id": "Q-N0EiDzK0p0",
        "colab": {
          "base_uri": "https://localhost:8080/"
        },
        "outputId": "6211fab6-3ef6-4e1b-b7e0-78d807539b23"
      },
      "execution_count": 5,
      "outputs": [
        {
          "output_type": "stream",
          "name": "stdout",
          "text": [
            "The number of strings with the same first and last character is: 3\n"
          ]
        }
      ]
    },
    {
      "cell_type": "markdown",
      "source": [
        "1C. Write a Python program to get a list, sorted in increasing order by the last element in each tuple from a given list of non-empty tuples."
      ],
      "metadata": {
        "id": "NEataweqK0xV"
      }
    },
    {
      "cell_type": "code",
      "source": [
        "def sort(tuples):\n",
        "    sorted_tuples = sorted(tuples, key=lambda x: x[-1])\n",
        "    return sorted_tuples\n",
        "\n",
        "# Example usage\n",
        "my_tuples = [(1, 5), (3, 2), (9, 7), (4, 6)]\n",
        "result = sort(my_tuples)\n",
        "print(\"Sorted list of tuples:\", result)"
      ],
      "metadata": {
        "id": "CBw_nFtnK032",
        "colab": {
          "base_uri": "https://localhost:8080/"
        },
        "outputId": "d8ab8d6a-9291-4d54-fcff-20a59683ca35"
      },
      "execution_count": 6,
      "outputs": [
        {
          "output_type": "stream",
          "name": "stdout",
          "text": [
            "Sorted list of tuples: [(3, 2), (1, 5), (4, 6), (9, 7)]\n"
          ]
        }
      ]
    },
    {
      "cell_type": "markdown",
      "source": [
        "2A. Write a Python program to remove duplicates from a list."
      ],
      "metadata": {
        "id": "gCcuirvhK0-t"
      }
    },
    {
      "cell_type": "code",
      "source": [
        "def remove_duplicates(lst):\n",
        "    result = []\n",
        "    for item in lst:\n",
        "        if item not in result:\n",
        "            result.append(item)\n",
        "    return result\n",
        "\n",
        "# Example usage\n",
        "my_list = [1, 2, 3, 2, 4, 3, 5, 1]\n",
        "result = remove_duplicates(my_list)\n",
        "print(\"List with duplicates removed:\", result)"
      ],
      "metadata": {
        "id": "Iqt5oNJwK1DV",
        "colab": {
          "base_uri": "https://localhost:8080/"
        },
        "outputId": "9d8d57bf-2a18-4c12-b906-bdf95f291976"
      },
      "execution_count": 10,
      "outputs": [
        {
          "output_type": "stream",
          "name": "stdout",
          "text": [
            "List with duplicates removed: [1, 2, 3, 4, 5]\n"
          ]
        }
      ]
    },
    {
      "cell_type": "markdown",
      "source": [
        "2B. Write a Python function that takes two lists and returns True if they have at least one common member."
      ],
      "metadata": {
        "id": "icLILXYUK1IF"
      }
    },
    {
      "cell_type": "code",
      "source": [
        "def commonMember(list1, list2):\n",
        "    for item in list1:\n",
        "        if item in list2:\n",
        "            return True\n",
        "    return False\n",
        "\n",
        "# Example usage\n",
        "my_list1 = [1, 2, 3, 4, 5]\n",
        "my_list2 = [5, 6, 7, 8, 9]\n",
        "result = commonMember(my_list1, my_list2)\n",
        "print(result)"
      ],
      "metadata": {
        "id": "HhDboPZIK1MZ",
        "colab": {
          "base_uri": "https://localhost:8080/"
        },
        "outputId": "642ff510-6cc1-4f60-c39b-cbab95c11286"
      },
      "execution_count": 13,
      "outputs": [
        {
          "output_type": "stream",
          "name": "stdout",
          "text": [
            "True\n"
          ]
        }
      ]
    },
    {
      "cell_type": "markdown",
      "source": [
        "2C. Write a Python program to print the numbers of a specified list after removing even numbers from it."
      ],
      "metadata": {
        "id": "22atu-SmK1Rm"
      }
    },
    {
      "cell_type": "code",
      "source": [
        "def removeEvenNumbers(lst):\n",
        "    result = []\n",
        "    for num in lst:\n",
        "        if num % 2 != 0:\n",
        "            result.append(num)\n",
        "    return result\n",
        "\n",
        "# Example usage\n",
        "my_list = [1, 2, 3, 4, 5, 6, 7, 8, 9, 10]\n",
        "result = removeEvenNumbers(my_list)\n",
        "print(\"Numbers after removing even numbers:\", result)"
      ],
      "metadata": {
        "id": "8Xnu2OBvK1V-",
        "colab": {
          "base_uri": "https://localhost:8080/"
        },
        "outputId": "859a9caa-7afd-41a0-a78d-169354b6a57d"
      },
      "execution_count": 23,
      "outputs": [
        {
          "output_type": "stream",
          "name": "stdout",
          "text": [
            "Numbers after removing even numbers: [1, 3, 5, 7, 9]\n"
          ]
        }
      ]
    },
    {
      "cell_type": "markdown",
      "source": [
        "3A. Write a Python program to generate and print a list of first and last 5 elements where the values are square of numbers between 1 and 30 (both included)."
      ],
      "metadata": {
        "id": "YoKsC5HWK1ae"
      }
    },
    {
      "cell_type": "code",
      "source": [
        "def generateSquareList():\n",
        "    square_list = [num * num for num in range(1, 31)]\n",
        "    first_five = []\n",
        "    last_five = []\n",
        "    list_length = len(square_list)\n",
        "    for i in range(5):\n",
        "        first_five.append(square_list[i])\n",
        "        last_five.append(square_list[list_length - 1 - i])\n",
        "    return first_five, last_five\n",
        "\n",
        "# Example usage\n",
        "first_five_elements, last_five_elements = generateSquareList()\n",
        "print(\"First 5 elements:\", first_five_elements)\n",
        "print(\"Last 5 elements:\", last_five_elements)"
      ],
      "metadata": {
        "id": "l5rPnietK1e4",
        "colab": {
          "base_uri": "https://localhost:8080/"
        },
        "outputId": "a0826587-5f6e-42ba-a6ca-8a55bb3c642d"
      },
      "execution_count": 17,
      "outputs": [
        {
          "output_type": "stream",
          "name": "stdout",
          "text": [
            "First 5 elements: [1, 4, 9, 16, 25]\n",
            "Last 5 elements: [900, 841, 784, 729, 676]\n"
          ]
        }
      ]
    },
    {
      "cell_type": "markdown",
      "source": [
        "3B. Write a Python program to get the difference between the two lists."
      ],
      "metadata": {
        "id": "72sVaoAyK1jG"
      }
    },
    {
      "cell_type": "code",
      "source": [
        "def listDifference(list1, list2):\n",
        "    difference = []\n",
        "    for item in list1:\n",
        "        if item not in list2:\n",
        "            difference.append(item)\n",
        "    return difference\n",
        "\n",
        "# Example usage\n",
        "list1 = [1, 2, 3, 4, 5]\n",
        "list2 = [4, 5, 6, 7, 8]\n",
        "result = listDifference(list1, list2)\n",
        "print(\"Items in list1 not in list2:\", result)"
      ],
      "metadata": {
        "id": "RsqiGkbNK1oP",
        "colab": {
          "base_uri": "https://localhost:8080/"
        },
        "outputId": "70df7c53-5aae-4125-b768-4577c43b3b3a"
      },
      "execution_count": 25,
      "outputs": [
        {
          "output_type": "stream",
          "name": "stdout",
          "text": [
            "Items in list1 not in list2: [1, 2, 3]\n"
          ]
        }
      ]
    },
    {
      "cell_type": "markdown",
      "source": [
        "3C. Write a Python program to convert a list of characters into a string."
      ],
      "metadata": {
        "id": "cwb0kd3sK1vt"
      }
    },
    {
      "cell_type": "code",
      "source": [
        "def charToString(char_list):\n",
        "    string = \"\"\n",
        "    for char in char_list:\n",
        "        string += char\n",
        "    return string\n",
        "\n",
        "# Example usage\n",
        "characters = ['H', 'e', 'l', 'l', 'o']\n",
        "result = charToString(characters)\n",
        "print(\"Converted string:\", result)"
      ],
      "metadata": {
        "id": "9oetbMLdK11N",
        "colab": {
          "base_uri": "https://localhost:8080/"
        },
        "outputId": "70baa675-f0c2-468e-e0c0-1ce9e8a00753"
      },
      "execution_count": 28,
      "outputs": [
        {
          "output_type": "stream",
          "name": "stdout",
          "text": [
            "Converted string: Hello\n"
          ]
        }
      ]
    },
    {
      "cell_type": "markdown",
      "source": [
        "4A. Write a Python program to select an item randomly from a list."
      ],
      "metadata": {
        "id": "pRBFvYEJK17O"
      }
    },
    {
      "cell_type": "code",
      "source": [
        "import random\n",
        "\n",
        "def randomItem(lst):\n",
        "    random_index = random.randint(0, len(lst) - 1)\n",
        "    random_item = lst[random_index]\n",
        "    return random_item\n",
        "\n",
        "# Example usage\n",
        "my_list = [1, 2, 3, 4, 5]\n",
        "result = randomItem(my_list)\n",
        "print(\"Randomly selected item:\", result)"
      ],
      "metadata": {
        "id": "Z3mdz8x5K1_s",
        "colab": {
          "base_uri": "https://localhost:8080/"
        },
        "outputId": "f585c70d-20e6-4e85-b1e2-c744ae8da9a1"
      },
      "execution_count": 40,
      "outputs": [
        {
          "output_type": "stream",
          "name": "stdout",
          "text": [
            "Randomly selected item: 1\n"
          ]
        }
      ]
    },
    {
      "cell_type": "markdown",
      "source": [
        "4B.Write a Python program to find the second largest number in a list."
      ],
      "metadata": {
        "id": "KZdXkW5MPjot"
      }
    },
    {
      "cell_type": "code",
      "source": [
        "def secondLargest(numbers):\n",
        "\n",
        "    largest = max(numbers[0], numbers[1])\n",
        "    second_largest = min(numbers[0], numbers[1])\n",
        "\n",
        "    for i in range(2, len(numbers)):\n",
        "        if numbers[i] > largest:\n",
        "            second_largest = largest\n",
        "            largest = numbers[i]\n",
        "        elif numbers[i] > second_largest and numbers[i] != largest:\n",
        "            second_largest = numbers[i]\n",
        "\n",
        "    return second_largest\n",
        "\n",
        "# Example usage\n",
        "my_list = [10, 5, 20, 15, 8]\n",
        "result = secondLargest(my_list)\n",
        "print(\"Second largest number:\", result)"
      ],
      "metadata": {
        "id": "4l3nkCRUK2KX",
        "colab": {
          "base_uri": "https://localhost:8080/"
        },
        "outputId": "bf545c28-6d26-4462-a31c-ef03e927c2a7"
      },
      "execution_count": 45,
      "outputs": [
        {
          "output_type": "stream",
          "name": "stdout",
          "text": [
            "Second largest number: 15\n"
          ]
        }
      ]
    },
    {
      "cell_type": "markdown",
      "source": [
        "5A. Write a Python program to count the number of elements in a list within a specified range."
      ],
      "metadata": {
        "id": "gUKwS8kEPkM6"
      }
    },
    {
      "cell_type": "code",
      "source": [
        "def countElements(lst, min_val, max_val):\n",
        "    count = 0\n",
        "    for num in lst:\n",
        "        if min_val <= num <= max_val:\n",
        "            count += 1\n",
        "    return count\n",
        "\n",
        "# Example usage\n",
        "my_list = [1, 5, 10, 15, 20, 25, 30]\n",
        "min_value = 10\n",
        "max_value = 25\n",
        "result = countElements(my_list, min_value, max_value)\n",
        "print(\"Number of elements within the range:\", result)"
      ],
      "metadata": {
        "id": "DAnLmn_RPySc",
        "colab": {
          "base_uri": "https://localhost:8080/"
        },
        "outputId": "8adeb045-fe0f-4403-8845-92582374d4c0"
      },
      "execution_count": 47,
      "outputs": [
        {
          "output_type": "stream",
          "name": "stdout",
          "text": [
            "Number of elements within the range: 4\n"
          ]
        }
      ]
    },
    {
      "cell_type": "markdown",
      "source": [
        "5B. Write a Python program to split a list into different variables."
      ],
      "metadata": {
        "id": "3bOmmaEbK2E8"
      }
    },
    {
      "cell_type": "code",
      "source": [
        "def splitList(lst):\n",
        "\n",
        "    var1 = lst[0]\n",
        "    var2 = lst[1]\n",
        "    remaining_list = []\n",
        "    for i in range(2, len(lst)):\n",
        "        remaining_list.append(lst[i])\n",
        "\n",
        "    return var1, var2, remaining_list\n",
        "\n",
        "# Example usage\n",
        "my_list = [1, 2, 3, 4, 5]\n",
        "result1, result2, result3 = splitList(my_list)\n",
        "print(\"Variable 1:\", result1)\n",
        "print(\"Variable 2:\", result2)\n",
        "print(\"Remaining List:\", result3)"
      ],
      "metadata": {
        "id": "lBYfMtFnRBsz",
        "colab": {
          "base_uri": "https://localhost:8080/"
        },
        "outputId": "0a3acf90-991e-4020-8d20-f42d07547c8b"
      },
      "execution_count": 49,
      "outputs": [
        {
          "output_type": "stream",
          "name": "stdout",
          "text": [
            "Variable 1: 1\n",
            "Variable 2: 2\n",
            "Remaining List: [3, 4, 5]\n"
          ]
        }
      ]
    },
    {
      "cell_type": "markdown",
      "source": [
        "6A. Merge the following dictionaries into one"
      ],
      "metadata": {
        "id": "hH16U6KcRARD"
      }
    },
    {
      "cell_type": "code",
      "source": [
        "dict1 = {'Ten': 10, 'Twenty': 20, 'Thirty': 30}\n",
        "dict2 = {'Thirty': 30, 'Fourty': 40, 'Fifty': 50}\n",
        "\n",
        "merged_dict = dict(dict1)\n",
        "merged_dict.update(dict2)\n",
        "\n",
        "print(\"Merged Dictionary:\", merged_dict)\n"
      ],
      "metadata": {
        "id": "z_ce9ZOHRAYr",
        "colab": {
          "base_uri": "https://localhost:8080/"
        },
        "outputId": "c24f47dc-3727-493e-bbdd-b9cee76bf2ef"
      },
      "execution_count": 52,
      "outputs": [
        {
          "output_type": "stream",
          "name": "stdout",
          "text": [
            "Merged Dictionary: {'Ten': 10, 'Twenty': 20, 'Thirty': 30, 'Fourty': 40, 'Fifty': 50}\n"
          ]
        }
      ]
    },
    {
      "cell_type": "markdown",
      "source": [
        "6B. Delete the set of keys from the following python dictionary"
      ],
      "metadata": {
        "id": "UOCvJRpvRAfq"
      }
    },
    {
      "cell_type": "code",
      "source": [
        "sampleDict = {\n",
        " \"name\": \"Kelly\",\n",
        " \"age\":25,\n",
        " \"salary\": 8000,\n",
        " \"city\": \"New york\"\n",
        "}\n",
        "\n",
        "keysToRemove = [\"name\", \"salary\"]\n",
        "\n",
        "for key in keysToRemove:\n",
        "    sampleDict.pop(key, None)\n",
        "\n",
        "print(\"Updated Dictionary:\", sampleDict)\n",
        "\n"
      ],
      "metadata": {
        "id": "xJk1rTxKRAmV",
        "colab": {
          "base_uri": "https://localhost:8080/"
        },
        "outputId": "a67e563e-5662-440a-8b57-37c1b5ad6281"
      },
      "execution_count": 53,
      "outputs": [
        {
          "output_type": "stream",
          "name": "stdout",
          "text": [
            "Updated Dictionary: {'age': 25, 'city': 'New york'}\n"
          ]
        }
      ]
    }
  ]
}