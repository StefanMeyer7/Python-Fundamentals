{
  "nbformat": 4,
  "nbformat_minor": 0,
  "metadata": {
    "colab": {
      "provenance": []
    },
    "kernelspec": {
      "name": "python3",
      "display_name": "Python 3"
    },
    "language_info": {
      "name": "python"
    }
  },
  "cells": [
    {
      "cell_type": "markdown",
      "source": [
        "1A. Write a Python program to sum all the items in a list."
      ],
      "metadata": {
        "id": "06HPv0TNKzcW"
      }
    },
    {
      "cell_type": "code",
      "execution_count": null,
      "metadata": {
        "id": "sHKUtK2dKukc"
      },
      "outputs": [],
      "source": [
        "def sumItems(lst):\n",
        "    my_list = [1, 2, 3, 4, 5]\n",
        "    total = 0\n",
        "    for item in lst:\n",
        "        total += item\n",
        "    return total\n",
        "\n",
        "my_list = [1, 2, 3, 4, 5]\n",
        "result = sumItems(my_list)\n",
        "print(\"The sum of the list items is:\", result)"
      ]
    },
    {
      "cell_type": "markdown",
      "source": [
        "1B. Write a Python program to count the number of strings where the string length is 2 or more and the first and last character are same from a given list of strings."
      ],
      "metadata": {
        "id": "mnY0V50-K0iF"
      }
    },
    {
      "cell_type": "code",
      "source": [
        "def countFirstLast(strings):\n",
        "    count = 0\n",
        "    for string in strings:\n",
        "        if len(string) >= 2 and string[0] == string[-1]:\n",
        "            count += 1\n",
        "    return count\n",
        "\n",
        "# Example usage\n",
        "my_strings = ['level', 'python', 'radar', 'hello', 'madam']\n",
        "result = countFirstLast(my_strings)\n",
        "print(\"The number of strings with the same first and last character is:\", result)"
      ],
      "metadata": {
        "id": "Q-N0EiDzK0p0"
      },
      "execution_count": null,
      "outputs": []
    },
    {
      "cell_type": "markdown",
      "source": [
        "1C. Write a Python program to get a list, sorted in increasing order by the last element in each tuple from a given list of non-empty tuples."
      ],
      "metadata": {
        "id": "NEataweqK0xV"
      }
    },
    {
      "cell_type": "code",
      "source": [
        "def sort(tuples):\n",
        "    sorted_tuples = sorted(tuples, key=lambda x: x[-1])\n",
        "    return sorted_tuples\n",
        "\n",
        "# Example usage\n",
        "my_tuples = [(1, 5), (3, 2), (9, 7), (4, 6)]\n",
        "result = sort(my_tuples)\n",
        "print(\"Sorted list of tuples:\", result)"
      ],
      "metadata": {
        "id": "CBw_nFtnK032"
      },
      "execution_count": null,
      "outputs": []
    },
    {
      "cell_type": "markdown",
      "source": [
        "2A. Write a Python program to remove duplicates from a list."
      ],
      "metadata": {
        "id": "gCcuirvhK0-t"
      }
    },
    {
      "cell_type": "code",
      "source": [
        "def remove_duplicates(lst):\n",
        "    result = []\n",
        "    for item in lst:\n",
        "        if item not in result:\n",
        "            result.append(item)\n",
        "    return result\n",
        "\n",
        "# Example usage\n",
        "my_list = [1, 2, 3, 2, 4, 3, 5, 1]\n",
        "result = remove_duplicates(my_list)\n",
        "print(\"List with duplicates removed:\", result)"
      ],
      "metadata": {
        "id": "Iqt5oNJwK1DV"
      },
      "execution_count": null,
      "outputs": []
    },
    {
      "cell_type": "markdown",
      "source": [
        "2B. Write a Python function that takes two lists and returns True if they have at least one common member."
      ],
      "metadata": {
        "id": "icLILXYUK1IF"
      }
    },
    {
      "cell_type": "code",
      "source": [
        "def commonMember(list1, list2):\n",
        "    for item in list1:\n",
        "        if item in list2:\n",
        "            return True\n",
        "    return False\n",
        "\n",
        "# Example usage\n",
        "my_list1 = [1, 2, 3, 4, 5]\n",
        "my_list2 = [5, 6, 7, 8, 9]\n",
        "result = commonMember(my_list1, my_list2)\n",
        "print(result)"
      ],
      "metadata": {
        "id": "HhDboPZIK1MZ"
      },
      "execution_count": null,
      "outputs": []
    },
    {
      "cell_type": "markdown",
      "source": [
        "2C. Write a Python program to print the numbers of a specified list after removing even numbers from it."
      ],
      "metadata": {
        "id": "22atu-SmK1Rm"
      }
    },
    {
      "cell_type": "code",
      "source": [
        "def removeEvenNumbers(lst):\n",
        "    result = []\n",
        "    for num in lst:\n",
        "        if num % 2 != 0:\n",
        "            result.append(num)\n",
        "    return result\n",
        "\n",
        "# Example usage\n",
        "my_list = [1, 2, 3, 4, 5, 6, 7, 8, 9, 10]\n",
        "result = removeEvenNumbers(my_list)\n",
        "print(\"Numbers after removing even numbers:\", result)"
      ],
      "metadata": {
        "id": "8Xnu2OBvK1V-"
      },
      "execution_count": null,
      "outputs": []
    },
    {
      "cell_type": "markdown",
      "source": [
        "3A. Write a Python program to generate and print a list of first and last 5 elements where the values are square of numbers between 1 and 30 (both included)."
      ],
      "metadata": {
        "id": "YoKsC5HWK1ae"
      }
    },
    {
      "cell_type": "code",
      "source": [
        "def generateSquareList():\n",
        "    square_list = [num * num for num in range(1, 31)]\n",
        "    first_five = []\n",
        "    last_five = []\n",
        "    list_length = len(square_list)\n",
        "    for i in range(5):\n",
        "        first_five.append(square_list[i])\n",
        "        last_five.append(square_list[list_length - 1 - i])\n",
        "    return first_five, last_five\n",
        "\n",
        "# Example usage\n",
        "first_five_elements, last_five_elements = generateSquareList()\n",
        "print(\"First 5 elements:\", first_five_elements)\n",
        "print(\"Last 5 elements:\", last_five_elements)"
      ],
      "metadata": {
        "id": "l5rPnietK1e4"
      },
      "execution_count": null,
      "outputs": []
    },
    {
      "cell_type": "markdown",
      "source": [
        "3B. Write a Python program to get the difference between the two lists."
      ],
      "metadata": {
        "id": "72sVaoAyK1jG"
      }
    },
    {
      "cell_type": "code",
      "source": [
        "def listDifference(list1, list2):\n",
        "    difference = []\n",
        "    for item in list1:\n",
        "        if item not in list2:\n",
        "            difference.append(item)\n",
        "    return difference\n",
        "\n",
        "# Example usage\n",
        "list1 = [1, 2, 3, 4, 5]\n",
        "list2 = [4, 5, 6, 7, 8]\n",
        "result = listDifference(list1, list2)\n",
        "print(\"Items in list1 not in list2:\", result)"
      ],
      "metadata": {
        "id": "RsqiGkbNK1oP"
      },
      "execution_count": null,
      "outputs": []
    },
    {
      "cell_type": "markdown",
      "source": [
        "3C. Write a Python program to convert a list of characters into a string."
      ],
      "metadata": {
        "id": "cwb0kd3sK1vt"
      }
    },
    {
      "cell_type": "code",
      "source": [
        "def charToString(char_list):\n",
        "    string = \"\"\n",
        "    for char in char_list:\n",
        "        string += char\n",
        "    return string\n",
        "\n",
        "# Example usage\n",
        "characters = ['H', 'e', 'l', 'l', 'o']\n",
        "result = charToString(characters)\n",
        "print(\"Converted string:\", result)"
      ],
      "metadata": {
        "id": "9oetbMLdK11N"
      },
      "execution_count": null,
      "outputs": []
    },
    {
      "cell_type": "markdown",
      "source": [
        "4A. Write a Python program to select an item randomly from a list."
      ],
      "metadata": {
        "id": "pRBFvYEJK17O"
      }
    },
    {
      "cell_type": "code",
      "source": [
        "import random\n",
        "\n",
        "def randomItem(lst):\n",
        "    random_index = random.randint(0, len(lst) - 1)\n",
        "    random_item = lst[random_index]\n",
        "    return random_item\n",
        "\n",
        "# Example usage\n",
        "my_list = [1, 2, 3, 4, 5]\n",
        "result = randomItem(my_list)\n",
        "print(\"Randomly selected item:\", result)"
      ],
      "metadata": {
        "id": "Z3mdz8x5K1_s"
      },
      "execution_count": null,
      "outputs": []
    },
    {
      "cell_type": "markdown",
      "source": [
        "4B.Write a Python program to find the second largest number in a list."
      ],
      "metadata": {
        "id": "KZdXkW5MPjot"
      }
    },
    {
      "cell_type": "code",
      "source": [
        "def secondLargest(numbers):\n",
        "\n",
        "    largest = max(numbers[0], numbers[1])\n",
        "    second_largest = min(numbers[0], numbers[1])\n",
        "\n",
        "    for i in range(2, len(numbers)):\n",
        "        if numbers[i] > largest:\n",
        "            second_largest = largest\n",
        "            largest = numbers[i]\n",
        "        elif numbers[i] > second_largest and numbers[i] != largest:\n",
        "            second_largest = numbers[i]\n",
        "\n",
        "    return second_largest\n",
        "\n",
        "# Example usage\n",
        "my_list = [10, 5, 20, 15, 8]\n",
        "result = secondLargest(my_list)\n",
        "print(\"Second largest number:\", result)"
      ],
      "metadata": {
        "id": "4l3nkCRUK2KX"
      },
      "execution_count": null,
      "outputs": []
    },
    {
      "cell_type": "markdown",
      "source": [
        "5A. Write a Python program to count the number of elements in a list within a specified range."
      ],
      "metadata": {
        "id": "gUKwS8kEPkM6"
      }
    },
    {
      "cell_type": "code",
      "source": [
        "def countElements(lst, min_val, max_val):\n",
        "    count = 0\n",
        "    for num in lst:\n",
        "        if min_val <= num <= max_val:\n",
        "            count += 1\n",
        "    return count\n",
        "\n",
        "# Example usage\n",
        "my_list = [1, 5, 10, 15, 20, 25, 30]\n",
        "min_value = 10\n",
        "max_value = 25\n",
        "result = countElements(my_list, min_value, max_value)\n",
        "print(\"Number of elements within the range:\", result)"
      ],
      "metadata": {
        "id": "DAnLmn_RPySc"
      },
      "execution_count": null,
      "outputs": []
    },
    {
      "cell_type": "markdown",
      "source": [
        "5B. Write a Python program to split a list into different variables."
      ],
      "metadata": {
        "id": "3bOmmaEbK2E8"
      }
    },
    {
      "cell_type": "code",
      "source": [
        "def splitList(lst):\n",
        "\n",
        "    var1 = lst[0]\n",
        "    var2 = lst[1]\n",
        "    remaining_list = []\n",
        "    for i in range(2, len(lst)):\n",
        "        remaining_list.append(lst[i])\n",
        "\n",
        "    return var1, var2, remaining_list\n",
        "\n",
        "# Example usage\n",
        "my_list = [1, 2, 3, 4, 5]\n",
        "result1, result2, result3 = splitList(my_list)\n",
        "print(\"Variable 1:\", result1)\n",
        "print(\"Variable 2:\", result2)\n",
        "print(\"Remaining List:\", result3)"
      ],
      "metadata": {
        "id": "lBYfMtFnRBsz"
      },
      "execution_count": null,
      "outputs": []
    },
    {
      "cell_type": "markdown",
      "source": [
        "6A. Merge the following dictionaries into one"
      ],
      "metadata": {
        "id": "hH16U6KcRARD"
      }
    },
    {
      "cell_type": "code",
      "source": [
        "dict1 = {'Ten': 10, 'Twenty': 20, 'Thirty': 30}\n",
        "dict2 = {'Thirty': 30, 'Fourty': 40, 'Fifty': 50}\n",
        "\n",
        "merged_dict = dict(dict1)\n",
        "merged_dict.update(dict2)\n",
        "\n",
        "print(\"Merged Dictionary:\", merged_dict)"
      ],
      "metadata": {
        "id": "z_ce9ZOHRAYr"
      },
      "execution_count": null,
      "outputs": []
    },
    {
      "cell_type": "markdown",
      "source": [
        "6B. Delete the set of keys from the following python dictionary"
      ],
      "metadata": {
        "id": "UOCvJRpvRAfq"
      }
    },
    {
      "cell_type": "code",
      "source": [
        "sampleDict = {\n",
        " \"name\": \"Kelly\",\n",
        " \"age\":25,\n",
        " \"salary\": 8000,\n",
        " \"city\": \"New york\"\n",
        "}\n",
        "\n",
        "keysToRemove = [\"name\", \"salary\"]\n",
        "\n",
        "for key in keysToRemove:\n",
        "    sampleDict.pop(key, None)\n",
        "\n",
        "print(\"Updated Dictionary:\", sampleDict)"
      ],
      "metadata": {
        "id": "xJk1rTxKRAmV"
      },
      "execution_count": null,
      "outputs": []
    }
  ]
}